{
 "cells": [
  {
   "cell_type": "markdown",
   "id": "58fb2508-b1b5-476f-afb5-dd35bf67828a",
   "metadata": {
    "tags": []
   },
   "source": [
    "# Data Science Tools and Ecosystem"
   ]
  },
  {
   "cell_type": "markdown",
   "id": "608517e4-0d50-487f-b106-d36cbc1372b0",
   "metadata": {},
   "source": [
    "In this notebook, Data Science Tools and Ecosystem are summarized."
   ]
  },
  {
   "cell_type": "markdown",
   "id": "6437b155-e302-4a21-ba37-080fe124b3c6",
   "metadata": {
    "tags": []
   },
   "source": [
    "#### Some of the popular languages that Data Scientists use are:\n",
    "1. python\n",
    "2. R\n",
    "3. julia"
   ]
  },
  {
   "cell_type": "markdown",
   "id": "7a337f8b-6662-4959-8fa1-d6c27a4f8d4e",
   "metadata": {},
   "source": [
    "#### Some of the commonly used libraries used by Data Scientists include:\n",
    "1. numpy\n",
    "2. pandas\n",
    "3. matplotlib\n",
    "4. ggplot"
   ]
  },
  {
   "cell_type": "markdown",
   "id": "d4ef6274-5316-4c1b-98d1-6a0b0e74c3f7",
   "metadata": {
    "tags": []
   },
   "source": [
    "|Data Science Tools|\n",
    "|---------------|\n",
    "|jupyter notebook|\n",
    "|Rstudio|\n",
    "|tensorflow|"
   ]
  },
  {
   "cell_type": "markdown",
   "id": "b648d718-7fb0-408b-85a9-bc802a0f413b",
   "metadata": {},
   "source": [
    "### Below are a few examples of evaluating arithmetic expressions in Python\n",
    "* a+b\n",
    "* a-b\n",
    "* a*b\n",
    "* a/b"
   ]
  },
  {
   "cell_type": "code",
   "execution_count": 2,
   "id": "e4e7a18d-38d2-4ba3-b911-97f12f08bc4f",
   "metadata": {
    "tags": []
   },
   "outputs": [
    {
     "data": {
      "text/plain": [
       "17"
      ]
     },
     "execution_count": 2,
     "metadata": {},
     "output_type": "execute_result"
    }
   ],
   "source": [
    "(3*4)+5 #This a simple arithmetic expression to mutiply then add integers"
   ]
  },
  {
   "cell_type": "code",
   "execution_count": 4,
   "id": "cccedfd4-dbd6-4a99-9a87-9a67642f5f0a",
   "metadata": {
    "tags": []
   },
   "outputs": [
    {
     "data": {
      "text/plain": [
       "3.3333333333333335"
      ]
     },
     "execution_count": 4,
     "metadata": {},
     "output_type": "execute_result"
    }
   ],
   "source": [
    "200/60 # This will convert 200 minutes to hours by diving by 60"
   ]
  },
  {
   "cell_type": "markdown",
   "id": "1f800c5c-0fd2-489a-8a2f-520fdb985272",
   "metadata": {},
   "source": [
    "### Objectives:\n",
    "- List popular languages for Data Science\n",
    "- list commonly used data science  libraries\n",
    "- create markdown cells\n",
    "- create tables in markdown cells"
   ]
  },
  {
   "cell_type": "markdown",
   "id": "7be10c43-9a6b-4bf1-af0b-4c08daabea48",
   "metadata": {},
   "source": [
    "## Author\n",
    "ayyanar.s"
   ]
  }
 ],
 "metadata": {
  "kernelspec": {
   "display_name": "Python",
   "language": "python",
   "name": "conda-env-python-py"
  },
  "language_info": {
   "codemirror_mode": {
    "name": "ipython",
    "version": 3
   },
   "file_extension": ".py",
   "mimetype": "text/x-python",
   "name": "python",
   "nbconvert_exporter": "python",
   "pygments_lexer": "ipython3",
   "version": "3.7.12"
  }
 },
 "nbformat": 4,
 "nbformat_minor": 5
}
